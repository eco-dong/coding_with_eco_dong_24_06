{
 "cells": [
  {
   "cell_type": "markdown",
   "metadata": {},
   "source": [
    "# 실습 2\n",
    "---\n",
    "#### 문제\n",
    "> - 국가공무원법 제63조(품위 유지의 의무)\n",
    ">\n",
    ">   공무원은 직무의 내외를 불문하고 그 품위가 손상되는 행위를 하여서는 아니 된다.\n",
    "> - 국가공무원법 제64조(영리 업무 및 겸직 금지)\n",
    ">\n",
    ">   ① 공무원은 공무 외에 영리를 목적으로 하는 업무에 종사하지 못하며 소속 기관장의 허가 없이 다른 직무를 겸할 수 없다.\n",
    "> - 공무원 복무규정 제25조 본문에 따른 금지요건\n",
    ">\n",
    ">   공무원의 직무 능률을 떨어뜨릴 우려가 있는 경우\n",
    "\n",
    "##### 꼬미쌤은 부업으로 우산 장사를 하고 있다.\n",
    "\n",
    "- 하지만 공무원의 겸직에는 조건이 있다. 공무원 복무규정 제 63조에 따라 “품위유지”라는 공무원의 의무를 지켜야하기 때문에, 꼬미쌤의 품위상 항상 최고의 매출을 내야만 한다.\n",
    "\n",
    "- 우산의 수요는 강수확률에 민감하게 반응한다. 강수확률이 높아지면 우산의 수요는 증가하고, 강수확률이 낮아지면 우산의 수요는 감소한다.\n",
    "\n",
    "- 꼬미쌤은 일기예보의 강수확률과 우산의 수요함수를 활용하여 총 매출액을 최대화할 수 있는 판매가격을 책정하려고 한다. 꼬미쌤은 매일 다음과 같은 방법으로 가격을 책정한다.\n",
    "\n",
    "    1. 기상청 예보를 확인하여 강수확률을 알아낸다.\n",
    "\n",
    "    2. 강수확률을 토대로 예상되는 우산의 수요함수를 도출한다.\n",
    "\n",
    "    3. 우산의 수요함수를 활용하여 가장 많은 매출액을 얻을 수 있는 가격을 찾는다.\n",
    "\n",
    "- 하지만 공무원의 겸직은 담당 직무수행에 지장이 없어야 하는데, 예보를 매일 확인하여 가격을 책정하는 것이 너무 번거로운 일이라 꼬미쌤의 직무수행에 지장을 줄 수 있다.\n",
    "\n",
    "- 꼬미쌤의 품위유지와 직무수행을 위해 우산의 판매가격을 자동으로 책정해주는 프로그램을 작성해드리자."
   ]
  },
  {
   "cell_type": "markdown",
   "metadata": {},
   "source": [
    "---\n",
    "### 2-1. 기상청 예보 데이터 받아오기"
   ]
  },
  {
   "cell_type": "code",
   "execution_count": null,
   "metadata": {},
   "outputs": [],
   "source": [
    "!pip install requests\n",
    "import requests\n",
    "\n",
    "url = \"WRTIE YOUR API URL\"\n",
    "response = requests.get(url, verify=False)\n",
    "\n",
    "lines = response.text.split('\\n')\n",
    "\n",
    "data = []\n",
    "for line in lines:\n",
    "    print(line)\n",
    "    if len(line) < 1:\n",
    "        continue\n",
    "    if line[0] == '#':\n",
    "        continue\n",
    "    data.append(line.split())\n",
    "\n",
    "for datum in data:\n",
    "    print(*datum)"
   ]
  },
  {
   "cell_type": "markdown",
   "metadata": {},
   "source": [
    "---\n",
    "### 2-2. 판매액을 최대화하는 우산가격과 최대 판매액 산출하기\n",
    "\n",
    "> #### 우산 수요함수\n",
    "> $ Q_d = 100 - 2P + 4R\\;(R은\\,강수확률)$"
   ]
  },
  {
   "cell_type": "code",
   "execution_count": null,
   "metadata": {},
   "outputs": [],
   "source": [
    "import math\n",
    "\n",
    "def 우산가격계산(강수확률):\n",
    "    '''\n",
    "    RIGHT YOUR CODE\n",
    "    '''\n",
    "    return 우산가격\n",
    "\n",
    "def 최대매출계산(강수확률):\n",
    "    '''\n",
    "    RIGHT YOUR CODE\n",
    "    '''\n",
    "    return 최대매출\n",
    "\n",
    "for datum in data:\n",
    "    시작시간 = datum[2]\n",
    "    기온 = datum[12]\n",
    "    강수확률 = int(datum[13])\n",
    "\n",
    "    '''\n",
    "    RIGHT YOUR CODE\n",
    "    '''\n",
    "    \n",
    "    print(\"[\"\n",
    "        + (시작시간[0:4] + \"년 \")\n",
    "        + (시작시간[4:6] + \"월 \")\n",
    "        + (시작시간[6:8] + \"일 \")\n",
    "        + (\"오후\" if 시작시간[8:10] == \"12\" else \"오전\")\n",
    "        + \"]\"\n",
    "        + \"기온: \" + 기온 + \"도\\t\"\n",
    "        + \"강수확률: \"+ str(강수확률) + \"%\\t\"\n",
    "        + \"우산가격: \" + str(우산가격) + \"원\\t\"\n",
    "        + \"수요량: \" + str(수요량) + \"명\\t\"\n",
    "        + \"최대매출: \" + str(최대매출) + \"원\\t\"\n",
    "        )\n"
   ]
  }
 ],
 "metadata": {
  "kernelspec": {
   "display_name": "Python 3",
   "language": "python",
   "name": "python3"
  },
  "language_info": {
   "codemirror_mode": {
    "name": "ipython",
    "version": 3
   },
   "file_extension": ".py",
   "mimetype": "text/x-python",
   "name": "python",
   "nbconvert_exporter": "python",
   "pygments_lexer": "ipython3",
   "version": "3.12.3"
  }
 },
 "nbformat": 4,
 "nbformat_minor": 2
}
