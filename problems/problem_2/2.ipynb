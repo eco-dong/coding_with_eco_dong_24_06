{
 "cells": [
  {
   "cell_type": "code",
   "execution_count": null,
   "metadata": {},
   "outputs": [],
   "source": [
    "import requests\n",
    "import math\n",
    "\n",
    "url = \"RIGHT YOUR API URL\"\n",
    "response = requests.get(url, verify=False)\n",
    "\n",
    "lines = response.text.split('\\n')\n",
    "\n",
    "data = []\n",
    "for line in lines:\n",
    "    if len(line) < 1:\n",
    "        continue\n",
    "    if line[0] == '#':\n",
    "        continue\n",
    "    data.append(line.split())\n",
    "\n",
    "def 우산가격계산(강수확률):\n",
    "    '''\n",
    "    RIGHT YOUR CODE\n",
    "    '''\n",
    "    return 우산가격\n",
    "\n",
    "def 최대매출계산(강수확률):\n",
    "    '''\n",
    "    RIGHT YOUR CODE\n",
    "    '''\n",
    "    return 최대매출\n",
    "\n",
    "for data in data:\n",
    "    시작시간 = data[2]\n",
    "    기온 = data[12]\n",
    "    강수확률 = int(data[13])\n",
    "\n",
    "    '''\n",
    "    RIGHT YOUR CODE\n",
    "    '''\n",
    "\n",
    "    print(\"[\"\n",
    "        + (시작시간[0:4] + \"년 \")\n",
    "        + (시작시간[4:6] + \"월 \")\n",
    "        + (시작시간[6:8] + \"일 \")\n",
    "        + (\"오후\" if 시작시간[8:10] == \"12\" else \"오전\")\n",
    "        + \"]\"\n",
    "        + \"기온: \" + 기온 + \"도\\t\"\n",
    "        + \"강수확률: \"+ str(강수확률) + \"%\\t\"\n",
    "        + \"우산가격: \" + str(우산가격) + \"원\\t\"\n",
    "        + \"수요량: \" + str(수요량) + \"명\\t\"\n",
    "        + \"최대매출: \" + str(최대매출) + \"원\\t\"\n",
    "        )\n",
    "\n"
   ]
  }
 ],
 "metadata": {
  "language_info": {
   "name": "python"
  }
 },
 "nbformat": 4,
 "nbformat_minor": 2
}
