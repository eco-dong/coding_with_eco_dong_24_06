{
 "cells": [
  {
   "cell_type": "code",
   "execution_count": null,
   "metadata": {},
   "outputs": [],
   "source": [
    "import os\n",
    "\n",
    "filePath = \"./금융상품목록.txt\"\n",
    "mode = \"r\"\n",
    "\n",
    "# 입력 전처리\n",
    "금융상품목록 = []\n",
    "with open(filePath, mode) as fileA:\n",
    "    streamA = fileA.readline()\n",
    "    while streamA:\n",
    "        streamArray = streamA.strip().split(\",\")\n",
    "        금융상품목록.append([streamArray[0], int(streamArray[1]), int(streamArray[2])])\n",
    "        streamA = fileA.readline()\n",
    "\n",
    "for 순서 in range(len(금융상품목록)):\n",
    "    이름, 투자금, 회수금 = 금융상품목록[순서]\n",
    "\n",
    "    # 수익금 구하기\n",
    "    수익금 = 회수금 - 투자금\n",
    "    금융상품목록[순서].append(수익금)\n",
    "\n",
    "    # 수익률 구하기\n",
    "    수익률 = int((수익금 / 투자금) * 1000) / 10\n",
    "    금융상품목록[순서].append(수익률)\n",
    "\n",
    "# 최고수익률상품 구하기\n",
    "최고수익률상품 = [\"\", 0, 0, 0, 0]\n",
    "for 순서 in range(len(금융상품목록)):\n",
    "    이름, 투자금, 회수금, 수익금, 수익률 = 금융상품목록[순서]\n",
    "    if 최고수익률상품[4] < 수익률:\n",
    "        최고수익률상품 = [이름, 투자금, 회수금, 수익금, 수익률]\n",
    "\n",
    "print(\"최고 수익률 상품\")\n",
    "print(\"이름: \" + 최고수익률상품[0])\n",
    "print(\"투자금: \" + str(최고수익률상품[1]) + \"원\")\n",
    "print(\"회수금: \" + str(최고수익률상품[2]) + \"원\")\n",
    "print(\"수익금: \" + str(최고수익률상품[3]) + \"원\")\n",
    "print(\"수익률: \" + str(최고수익률상품[4]) + \"%\")\n"
   ]
  }
 ],
 "metadata": {
  "language_info": {
   "name": "python"
  }
 },
 "nbformat": 4,
 "nbformat_minor": 2
}
