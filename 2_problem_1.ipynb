{
 "cells": [
  {
   "cell_type": "markdown",
   "metadata": {},
   "source": [
    "# 실습 1\n",
    "---\n",
    "#### 문제\n",
    "\n",
    "- 우리나라에서는 공직자윤리법 제 2조 제 2항, 제 10조 제 1항에 의거하여, 4급 이상의 공무원은 주식 거래가 금지되어 있다. 또한 선출직 공무원은 지지율이 중요하기 때문에 투자에 조심스러울 수 밖에 없다.\n",
    "\n",
    "- 전국의 모든 고등학교에 에코동을 신설하기 위해 교육감으로 입후보하려는 꼬미쌤은 교육감으로 선출되면 재산 투자에 감시를 받게 되는 것이다.\n",
    "\n",
    "- 따라서 꼬미쌤은 교육감에 출마하기 이전에 세계음식협회에서 운용하는 금융상품을 활용해서 재산을 불려놓을 계획이다. 세계음식협회는 다양한 금융상품을 운용하는데, 각각 수익률이 모두 다르며 이름이 음식이름이다.\n",
    "\n",
    "- 하지만 꼬미쌤은 교육감 출마를 준비하기 위해 매우 바쁘기 때문에 금융상품들의 수익률을 직접 계산할 시간적 여유가 없다.\n",
    "\n",
    "- eco-dong의 번영을 위해 주어지는 금융상품 중에 가장 수익률이 가장 높은 상품을 찾아 꼬미쌤을 도와주자."
   ]
  },
  {
   "cell_type": "markdown",
   "metadata": {},
   "source": [
    "---\n",
    "### 1-1. 입력값 초기화"
   ]
  },
  {
   "cell_type": "code",
   "execution_count": null,
   "metadata": {},
   "outputs": [],
   "source": [
    "금융상품목록 = [\n",
    "    [\"믿음직한 곱창\", 600, 3200],\n",
    "    [\"협조적인 스키야키\", 3200, 11500],\n",
    "    [\"대담한 양념치킨\", 2500, 14200],\n",
    "    [\"온화한 알밥\", 6200, 14100],\n",
    "    [\"고상한 쭈꾸미볶음\", 9400, 13300],\n",
    "]"
   ]
  },
  {
   "cell_type": "markdown",
   "metadata": {},
   "source": [
    "---\n",
    "### 1-2. 순이익과 수익률, 최고 수익률 상품 구하기\n",
    "> #### 순이익과 수익률 공식\n",
    "> $순이익= 회수금-투자금$\n",
    ">\n",
    "> $수익률=\\frac{순이익}{투자금}*100$"
   ]
  },
  {
   "cell_type": "code",
   "execution_count": null,
   "metadata": {},
   "outputs": [],
   "source": [
    "최고수익률상품 = ['',0,0,0,0]\n",
    "# [이름, 투자금, 회수금, 순이익, 수익률]\n",
    "\n",
    "for 순서 in range(len(금융상품목록)):\n",
    "    이름, 투자금, 회수금 = 금융상품목록[순서]\n",
    "\n",
    "    #순이익 구하기\n",
    "    순이익 = # WRITE YOUR CODE HERE\n",
    "\n",
    "    #수익률 구하기\n",
    "    수익률 = # WRITE YOUR CODE HERE\n",
    "    \n",
    "    #최고수익률 상품 갱신하기\n",
    "    '''\n",
    "    wRITE YOUR CODE\n",
    "    '''"
   ]
  },
  {
   "cell_type": "markdown",
   "metadata": {},
   "source": [
    "---\n",
    "### 1-3. 결과 출력하기"
   ]
  },
  {
   "cell_type": "code",
   "execution_count": null,
   "metadata": {},
   "outputs": [],
   "source": [
    "print(\"최고 수익률 상품\")\n",
    "print(\"이름: \" + 최고수익률상품[0])\n",
    "print(\"투자금: \" + str(최고수익률상품[1]) + \"원\")\n",
    "print(\"회수금: \" + str(최고수익률상품[2]) + \"원\")\n",
    "print(\"순이익: \" + str(최고수익률상품[3]) + \"원\")\n",
    "print(\"수익률: \" + str(최고수익률상품[4]) + \"%\")"
   ]
  },
  {
   "cell_type": "markdown",
   "metadata": {},
   "source": [
    "---\n",
    "### 1-4. 응용\n",
    "- 꼬미쌤은 세계 음식 협회의 금융 상품들이 너무 마음에 들어, 세계 음식 협회 프리미엄 멤버십에 가입했다.\n",
    "\n",
    "- 세계 음식 협회 프리미엄 멤버십에서는 기본 멤버십보다 훨씬 더 많은 금융 상품들을 서비스하기 때문에, 아래와 같은 10,000개의 금융상품을 비교해볼 수 있다.\n",
    "\n",
    "- 아래 코드 블럭을 실행해서, 세계 음식 협회 프리미엄 멤버심의 금융 상품 목록을 불러온 뒤, 1-2의 코드블럭과 1-3의 코드블럭을 순서대로 다시 실행해보자."
   ]
  },
  {
   "cell_type": "code",
   "execution_count": null,
   "metadata": {},
   "outputs": [],
   "source": [
    "!pip install gdown\n",
    "\n",
    "import gdown\n",
    "import os\n",
    "\n",
    "file_id = '1iSfh_Fduc7fa_lfGZ4lYkekeWmRqKC9-'\n",
    "url = f'https://drive.google.com/uc?id={file_id}'\n",
    "filePath = './금융상품목록.txt'\n",
    "mode = \"r\"\n",
    "gdown.download(url, filePath, quiet=False)\n",
    "\n",
    "# 입력 전처리\n",
    "금융상품목록 = []\n",
    "with open(filePath, mode, encoding='UTF8') as file:\n",
    "    streamA = file.readline()\n",
    "    while streamA:\n",
    "        streamArray = streamA.strip().split(\",\")\n",
    "        금융상품목록.append([streamArray[0], int(streamArray[1]), int(streamArray[2])])\n",
    "        streamA = file.readline()\n",
    "if len(금융상품목록) == 10000:\n",
    "    print(\"금융상품목록 로딩 완료!\")"
   ]
  }
 ],
 "metadata": {
  "kernelspec": {
   "display_name": "Python 3",
   "language": "python",
   "name": "python3"
  },
  "language_info": {
   "codemirror_mode": {
    "name": "ipython",
    "version": 3
   },
   "file_extension": ".py",
   "mimetype": "text/x-python",
   "name": "python",
   "nbconvert_exporter": "python",
   "pygments_lexer": "ipython3",
   "version": "3.12.3"
  }
 },
 "nbformat": 4,
 "nbformat_minor": 2
}
