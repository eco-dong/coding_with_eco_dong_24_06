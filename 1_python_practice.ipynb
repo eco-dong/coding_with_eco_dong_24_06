{
 "cells": [
  {
   "cell_type": "markdown",
   "metadata": {},
   "source": [
    "# 파이썬 문법 연습하기\n",
    "---\n",
    "#### 0-1. 출력\n",
    "- 화면에 원하는 문자열을 print문으로 출력할 수 있다."
   ]
  },
  {
   "cell_type": "code",
   "execution_count": null,
   "metadata": {},
   "outputs": [],
   "source": [
    "print(\"Hello, world!\")"
   ]
  },
  {
   "cell_type": "markdown",
   "metadata": {},
   "source": [
    "- \"eco-dong 화이팅\"을 출력해보세요."
   ]
  },
  {
   "cell_type": "code",
   "execution_count": null,
   "metadata": {},
   "outputs": [],
   "source": [
    "print()"
   ]
  },
  {
   "cell_type": "markdown",
   "metadata": {},
   "source": [
    "---\n",
    "#### 0-2. 주석\n",
    "- 메모 등으로 쓸 수 있는, 작동하지 않는 코드 부분. #으로 작성한다."
   ]
  },
  {
   "cell_type": "code",
   "execution_count": null,
   "metadata": {},
   "outputs": [],
   "source": [
    "# print(\"Hello, World!\")"
   ]
  },
  {
   "cell_type": "markdown",
   "metadata": {},
   "source": [
    "- 주석일 때와 주석이 아닐 때 한 번씩 실행해보세요."
   ]
  },
  {
   "cell_type": "code",
   "execution_count": null,
   "metadata": {},
   "outputs": [],
   "source": [
    "print(\"Hello, World!\")"
   ]
  },
  {
   "cell_type": "markdown",
   "metadata": {},
   "source": [
    "---\n",
    "#### 1-1. 변수 선언과 할당\n",
    "- 변수란 데이터를 저장하는 공간을 의미한다. 필요하면 직접 선언해야 한다.\n",
    "- python에서는 변수를 선언할 때 별도의 키워드가 필요하지 않다.\n",
    "- 보통 선언과 할당을 동시에 한다."
   ]
  },
  {
   "cell_type": "code",
   "execution_count": null,
   "metadata": {},
   "outputs": [],
   "source": [
    "name = \"Alice\"\n",
    "age = 25\n",
    "print(\"이름:\", name)\n",
    "print(\"나이:\", age)"
   ]
  },
  {
   "cell_type": "markdown",
   "metadata": {},
   "source": [
    "- 본인의 이름과 나이, 학년을 변수로 선언한 뒤 출력해보세요."
   ]
  },
  {
   "cell_type": "code",
   "execution_count": null,
   "metadata": {},
   "outputs": [],
   "source": [
    "name = \" # WRITE YOUR CODE HERE \"\n",
    "age = # WRITE YOUR CODE HERE\n",
    "grade = # WRITE YOUR CODE HERE\n",
    "print(name, age, grade)"
   ]
  },
  {
   "cell_type": "markdown",
   "metadata": {},
   "source": [
    "---\n",
    "#### 1-2. 코드로 수식 표현하기\n",
    "- 변수 간의 수식 계산을 통해 다양한 연산을 수행할 수 있다.\n",
    "- Python에서는 +, -, *, **, /, //, % 등의 다양한 연산을 지원한다."
   ]
  },
  {
   "cell_type": "code",
   "execution_count": null,
   "metadata": {},
   "outputs": [],
   "source": [
    "a = 10\n",
    "b = 3\n",
    "덧셈 = a + b            # 13\n",
    "뺄셈 = a - b            # 7\n",
    "곱셈 = a * b            # 30\n",
    "거듭제곱 = a ** b       # 1000\n",
    "나눗셈 = a / b\t\t    # 3.333333333…\n",
    "몫_구하기 = a // b\t    # 3 \n",
    "나머지_구하기 = a % b   # 1"
   ]
  },
  {
   "cell_type": "markdown",
   "metadata": {},
   "source": [
    "- 이차방정식 $2x^2 - 3x + 1$ 를 근의 공식을 활용하여 풀어보세요.\n",
    "\n",
    "    $ x = \\frac{-b \\pm \\sqrt{b^2 - 4ac}}{2a} $"
   ]
  },
  {
   "cell_type": "code",
   "execution_count": null,
   "metadata": {},
   "outputs": [],
   "source": [
    "a = 2\n",
    "b = -3\n",
    "c = 1\n",
    "solutionA = # WRITE YOUR CODE HERE\n",
    "solutionB = # WRITE YOUR CODE HERE\n",
    "print(solutionA, solutionB)"
   ]
  },
  {
   "cell_type": "markdown",
   "metadata": {},
   "source": [
    "---\n",
    "#### 1-3. 자료형(Data Type)\n",
    "- 변수에 담고 있는 자료의 유형을 구분해야 한다.\n",
    "- Python에서는 정수형(Int), 실수형(Float), 문자열(String), 리스트(List) 등 다양한 자료형을 제공한다.\n",
    "- 연산 등에 있어서는 적절한 자료형의 변수를 피연산자로 입력해주어야 한다."
   ]
  },
  {
   "cell_type": "code",
   "execution_count": null,
   "metadata": {},
   "outputs": [],
   "source": [
    "integer_value = 42\n",
    "float_value = 3.14159\n",
    "string_value = \"eco-dong\"\n",
    "list_value = [1, 2, 3, 4, 5]\n",
    "\n",
    "print(int(float_value)) # 3\n",
    "print(integer_value + string_value) # Error"
   ]
  },
  {
   "cell_type": "markdown",
   "metadata": {},
   "source": [
    "- 1.5와 1.5의 합을 출력해보세요."
   ]
  },
  {
   "cell_type": "code",
   "execution_count": null,
   "metadata": {},
   "outputs": [],
   "source": [
    "print(\"정답: \" + 1.5 + 1.5)"
   ]
  },
  {
   "cell_type": "markdown",
   "metadata": {},
   "source": [
    "---\n",
    "#### 1-3-1. 리스트(List)\n",
    "- List형으로 선언해주는 변수는 배열된 여러 변수를 저장할 수 있다. 리스트 변수 내부의 변수들을 “요소(element)”라고 부른다.\n",
    "- 대괄호[]로 변수 내부 요소의 순서(인덱스)에 맞춰서 요소들을 불러올 수 있다.(0부터 시작)\n",
    "- List Slicing: [a:b] 형태로 리스트의 일부만 잘라서 불러올 수도 있다."
   ]
  },
  {
   "cell_type": "code",
   "execution_count": null,
   "metadata": {},
   "outputs": [],
   "source": [
    "list_value = [1, 2, 3, 4, 5]\n",
    "\n",
    "print(list_value[0]) # 1\n",
    "print(list_value[4]) # 5\n",
    "print(list_value[-1]) # 5 (뒤에서 첫 번째)\n",
    "print(list_value[1:3]) # [2, 3] => [a:b] 형태면 [a,b) 구간의 값 가져옴"
   ]
  },
  {
   "cell_type": "markdown",
   "metadata": {},
   "source": [
    "- 주어진 리스트 numbers = [5, 10, 15, 20, 25, 30]에서 세 번째 요소부터 다섯 번째 요소까지 슬라이싱하여 출력해보고, 첫 번째 요소와 마지막 요소의 합을 출력해보세요."
   ]
  },
  {
   "cell_type": "code",
   "execution_count": null,
   "metadata": {},
   "outputs": [],
   "source": [
    "numbers = [5, 10, 15, 20, 25, 30]\n",
    "print()\n",
    "print()"
   ]
  },
  {
   "cell_type": "markdown",
   "metadata": {},
   "source": [
    "---\n",
    "#### 1-3-2. 2차원 리스트(2D List)\n",
    "- List형의 변수 내부에 List형의 변수를 넣고, 실제 값을 그 안에 저장하는 형태를 말한다.\n",
    "- 행과 열로 구성된 데이터 테이블을 표현할 수 있다.\n",
    "- 대괄호[]를 두 개 연속하여 사용해 특정 인덱스에 접근한다."
   ]
  },
  {
   "cell_type": "code",
   "execution_count": null,
   "metadata": {},
   "outputs": [],
   "source": [
    "matrix = [\n",
    "    [1, 2, 3],\n",
    "    [4, 5, 6],\n",
    "    [7, 8, 9]\n",
    "]\n",
    "print(matrix[0][0])  # 1\n",
    "print(matrix[1][2])  # 6\n",
    "print(matrix[2][1])  # 8"
   ]
  },
  {
   "cell_type": "markdown",
   "metadata": {},
   "source": [
    "- 주어진 2차원 리스트 matrix에서 두 번째 행의 첫 번째 요소와 세 번째 행의 두 번째 요소를 더하여 출력해보세요."
   ]
  },
  {
   "cell_type": "code",
   "execution_count": null,
   "metadata": {},
   "outputs": [],
   "source": [
    "matrix = [\n",
    "    [10, 20, 30],\n",
    "    [40, 50, 60],\n",
    "    [70, 80, 90]\n",
    "]\n",
    "print()"
   ]
  },
  {
   "cell_type": "markdown",
   "metadata": {},
   "source": [
    "---\n",
    "#### 2-2. 반복문(for)\n",
    "- 순회 가능한(연속해서 접근이 가능한) 변수들에 대해서, 변수의 모든 요소에 대해 순차적으로 아래의 코드 블럭을 실행한다."
   ]
  },
  {
   "cell_type": "code",
   "execution_count": null,
   "metadata": {},
   "outputs": [],
   "source": [
    "numbers = [1, 2, 3, 4, 5]\n",
    "total = 0\n",
    "\n",
    "for number in numbers:\n",
    "    total += number\n",
    "\n",
    "print(\"Total:\", total) # 15"
   ]
  },
  {
   "cell_type": "markdown",
   "metadata": {},
   "source": [
    "- 주어진 리스트 numbers에서 짝수만 출력해보세요."
   ]
  },
  {
   "cell_type": "code",
   "execution_count": null,
   "metadata": {},
   "outputs": [],
   "source": [
    "numbers = [1, 2, 3, 4, 5, 6, 7, 8, 9, 10]\n",
    "\n",
    "for number in numbers:\n",
    "    "
   ]
  },
  {
   "cell_type": "markdown",
   "metadata": {},
   "source": [
    "---\n",
    "#### 3-1. 함수(function)\n",
    "- 특정 작업을 수행하는 코드 블럭이다. 함수 내부에 코드를 작성하여 함수의 특별한 기능을 각각 구현할 수 있다.\n",
    "- def 키워드를 통해 선언할 수 있다.\n",
    "- 선언된 함수의 이름을 써서 호출할 수 있다.\n",
    "- 함수가 종료될 때, return문으로 반환값을 정해서 그 값을 반환하면서 함수를 종료시킬 수 있다."
   ]
  },
  {
   "cell_type": "code",
   "execution_count": null,
   "metadata": {},
   "outputs": [],
   "source": [
    "def greeting():\n",
    "    return \"Hello, World!\"\n",
    "\n",
    "greet = greeting()\n",
    "print(greet) # “Hello, World!”"
   ]
  },
  {
   "cell_type": "markdown",
   "metadata": {},
   "source": [
    "- 문자열 \"eco-dong 화이팅!\"을 반환하는 함수를 작성하고, 그 반환값을 출력해보세요."
   ]
  },
  {
   "cell_type": "code",
   "execution_count": null,
   "metadata": {},
   "outputs": [],
   "source": [
    "def eco_dong():\n",
    "    \n",
    "\n",
    "print()"
   ]
  },
  {
   "cell_type": "markdown",
   "metadata": {},
   "source": [
    "---\n",
    "#### 3-2. 함수 파라미터(function parameter)\n",
    "- 함수 파라미터는 함수를 선언할 때 함께 정해주는, 함수에 입력으로 들어가는 값들을 말한다.\n",
    "- 함수의 이름을 선언할 때 괄호 안에 함께 선언해줄 수 있다."
   ]
  },
  {
   "cell_type": "code",
   "execution_count": null,
   "metadata": {},
   "outputs": [],
   "source": [
    "def add(a, b):\n",
    "    return a + b\n",
    "\n",
    "result = add(3, 4)\n",
    "print(result) # 7"
   ]
  },
  {
   "cell_type": "markdown",
   "metadata": {},
   "source": [
    "- 두 수의 곱을 반환하는 함수를 만들어서, 1235와 8878을 곱한 값을 출력해보세요."
   ]
  },
  {
   "cell_type": "code",
   "execution_count": null,
   "metadata": {},
   "outputs": [],
   "source": [
    "def mul():\n",
    "\n",
    "print()"
   ]
  },
  {
   "cell_type": "markdown",
   "metadata": {},
   "source": [
    "---\n",
    "# 활용\n",
    "아래에 주어진 코드블럭을 활용해서 다음 조건들을 만족하는 코드를 완성해보세요.\n",
    "- 출석부에 주어진 값들은 [이름, 나이, 성별]을 의미합니다.\n",
    "- get_diff_of_mean 함수로 성별이 남성인 학생들 나이의 평균과 성별이 여성인 학생들 나이의 평균의 차이를 출력해보세요."
   ]
  },
  {
   "cell_type": "code",
   "execution_count": null,
   "metadata": {},
   "outputs": [],
   "source": [
    "# 출석부: [이름, 나이, 성별]\n",
    "attendance_list = [\n",
    "    [\"Alice\", 23, \"F\"],\n",
    "    [\"Bob\", 25, \"M\"],\n",
    "    [\"Charlie\", 22, \"M\"],\n",
    "    [\"Diana\", 24, \"F\"],\n",
    "    [\"Edward\", 28, \"M\"],\n",
    "    [\"Fiona\", 21, \"F\"]\n",
    "]\n",
    "\n",
    "def get_diff_of_mean(attendance):\n",
    "    sum_of_male_age = 0\n",
    "    count_of_male_age = 0\n",
    "    sum_of_female_age = 0\n",
    "    count_of_female_age = 0\n",
    "    \n",
    "    for entry in attendance:\n",
    "        age = entry[1]\n",
    "        gender = entry[2]\n",
    "        '''\n",
    "        WRITE YOUR CODE\n",
    "        '''\n",
    "    \n",
    "    \n",
    "    mean_of_male_age = # WRITE YOUR CODE HERE\n",
    "    mean_of_female_age = # WRITE YOUR CODE HERE\n",
    "    \n",
    "    return # WRITE YOUR CODE HERE\n",
    "\n",
    "age_difference = # WRITE YOUR CODE HERE\n",
    "print(\"성별에 따른 나이 평균의 차이:\", age_difference)"
   ]
  }
 ],
 "metadata": {
  "kernelspec": {
   "display_name": "Python 3",
   "language": "python",
   "name": "python3"
  },
  "language_info": {
   "codemirror_mode": {
    "name": "ipython",
    "version": 3
   },
   "file_extension": ".py",
   "mimetype": "text/x-python",
   "name": "python",
   "nbconvert_exporter": "python",
   "pygments_lexer": "ipython3",
   "version": "3.12.3"
  }
 },
 "nbformat": 4,
 "nbformat_minor": 2
}
